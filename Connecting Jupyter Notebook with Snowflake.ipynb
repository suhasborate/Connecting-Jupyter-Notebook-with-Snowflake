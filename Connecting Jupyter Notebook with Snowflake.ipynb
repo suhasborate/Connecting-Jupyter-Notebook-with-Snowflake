{
 "cells": [
  {
   "cell_type": "code",
   "execution_count": 1,
   "id": "d19586db",
   "metadata": {},
   "outputs": [
    {
     "name": "stdout",
     "output_type": "stream",
     "text": [
      "Collecting snowflake-connector-pythonNote: you may need to restart the kernel to use updated packages.\n",
      "  Downloading snowflake_connector_python-2.7.11-cp39-cp39-win_amd64.whl (9.8 MB)\n",
      "Requirement already satisfied: setuptools>34.0.0 in c:\\users\\suhas.borate\\anaconda3\\lib\\site-packages (from snowflake-connector-python) (58.0.4)\n",
      "Collecting oscrypto<2.0.0\n",
      "  Downloading oscrypto-1.3.0-py2.py3-none-any.whl (194 kB)\n",
      "Requirement already satisfied: urllib3<1.27,>=1.21.1 in c:\\users\\suhas.borate\\anaconda3\\lib\\site-packages (from snowflake-connector-python) (1.26.7)\n",
      "Requirement already satisfied: pyOpenSSL<23.0.0,>=16.2.0 in c:\\users\\suhas.borate\\anaconda3\\lib\\site-packages (from snowflake-connector-python) (21.0.0)\n",
      "Requirement already satisfied: cryptography<37.0.0,>=3.1.0 in c:\\users\\suhas.borate\\anaconda3\\lib\\site-packages (from snowflake-connector-python) (3.4.8)\n",
      "Requirement already satisfied: pyjwt<3.0.0 in c:\\users\\suhas.borate\\anaconda3\\lib\\site-packages (from snowflake-connector-python) (2.1.0)\n",
      "Requirement already satisfied: pytz in c:\\users\\suhas.borate\\anaconda3\\lib\\site-packages (from snowflake-connector-python) (2021.3)\n",
      "Requirement already satisfied: requests<3.0.0 in c:\\users\\suhas.borate\\anaconda3\\lib\\site-packages (from snowflake-connector-python) (2.26.0)\n",
      "Requirement already satisfied: asn1crypto<2.0.0,>0.24.0 in c:\\users\\suhas.borate\\anaconda3\\lib\\site-packages (from snowflake-connector-python) (1.4.0)\n",
      "Requirement already satisfied: idna<4,>=2.5 in c:\\users\\suhas.borate\\anaconda3\\lib\\site-packages (from snowflake-connector-python) (3.2)\n",
      "Requirement already satisfied: cffi<2.0.0,>=1.9 in c:\\users\\suhas.borate\\anaconda3\\lib\\site-packages (from snowflake-connector-python) (1.14.6)\n",
      "Requirement already satisfied: certifi>=2017.4.17 in c:\\users\\suhas.borate\\anaconda3\\lib\\site-packages (from snowflake-connector-python) (2022.6.15)\n",
      "Collecting pycryptodomex!=3.5.0,<4.0.0,>=3.2\n",
      "  Downloading pycryptodomex-3.15.0-cp35-abi3-win_amd64.whl (1.9 MB)\n",
      "Requirement already satisfied: charset-normalizer<3,>=2 in c:\\users\\suhas.borate\\anaconda3\\lib\\site-packages (from snowflake-connector-python) (2.0.4)\n",
      "Collecting typing-extensions<5,>=4.3\n",
      "  Downloading typing_extensions-4.3.0-py3-none-any.whl (25 kB)\n",
      "Requirement already satisfied: pycparser in c:\\users\\suhas.borate\\anaconda3\\lib\\site-packages (from cffi<2.0.0,>=1.9->snowflake-connector-python) (2.20)\n",
      "\n",
      "Collecting asn1crypto<2.0.0,>0.24.0\n",
      "  Downloading asn1crypto-1.5.1-py2.py3-none-any.whl (105 kB)\n",
      "Requirement already satisfied: six>=1.5.2 in c:\\users\\suhas.borate\\anaconda3\\lib\\site-packages (from pyOpenSSL<23.0.0,>=16.2.0->snowflake-connector-python) (1.15.0)\n",
      "Installing collected packages: asn1crypto, typing-extensions, pycryptodomex, oscrypto, snowflake-connector-python\n",
      "  Attempting uninstall: asn1crypto\n",
      "    Found existing installation: asn1crypto 1.4.0\n",
      "    Uninstalling asn1crypto-1.4.0:\n",
      "      Successfully uninstalled asn1crypto-1.4.0\n",
      "  Attempting uninstall: typing-extensions\n",
      "    Found existing installation: typing-extensions 3.10.0.2\n",
      "    Uninstalling typing-extensions-3.10.0.2:\n",
      "      Successfully uninstalled typing-extensions-3.10.0.2\n",
      "Successfully installed asn1crypto-1.5.1 oscrypto-1.3.0 pycryptodomex-3.15.0 snowflake-connector-python-2.7.11 typing-extensions-4.3.0\n"
     ]
    },
    {
     "name": "stderr",
     "output_type": "stream",
     "text": [
      "WARNING: Ignoring invalid distribution -yspark (c:\\users\\suhas.borate\\anaconda3\\lib\\site-packages)\n",
      "WARNING: Ignoring invalid distribution -yspark (c:\\users\\suhas.borate\\anaconda3\\lib\\site-packages)\n",
      "WARNING: Ignoring invalid distribution -yspark (c:\\users\\suhas.borate\\anaconda3\\lib\\site-packages)\n",
      "    WARNING: Ignoring invalid distribution -yspark (c:\\users\\suhas.borate\\anaconda3\\lib\\site-packages)\n",
      "    WARNING: Ignoring invalid distribution -yspark (c:\\users\\suhas.borate\\anaconda3\\lib\\site-packages)\n",
      "WARNING: Ignoring invalid distribution -yspark (c:\\users\\suhas.borate\\anaconda3\\lib\\site-packages)\n",
      "WARNING: Ignoring invalid distribution -yspark (c:\\users\\suhas.borate\\anaconda3\\lib\\site-packages)\n",
      "WARNING: Ignoring invalid distribution -yspark (c:\\users\\suhas.borate\\anaconda3\\lib\\site-packages)\n",
      "WARNING: Ignoring invalid distribution -yspark (c:\\users\\suhas.borate\\anaconda3\\lib\\site-packages)\n",
      "WARNING: Ignoring invalid distribution -yspark (c:\\users\\suhas.borate\\anaconda3\\lib\\site-packages)\n",
      "WARNING: Ignoring invalid distribution -yspark (c:\\users\\suhas.borate\\anaconda3\\lib\\site-packages)\n",
      "WARNING: Ignoring invalid distribution -yspark (c:\\users\\suhas.borate\\anaconda3\\lib\\site-packages)\n",
      "WARNING: Ignoring invalid distribution -yspark (c:\\users\\suhas.borate\\anaconda3\\lib\\site-packages)\n"
     ]
    }
   ],
   "source": [
    "# install snowflake-connector-python :\n",
    "pip install snowflake-connector-python"
   ]
  },
  {
   "cell_type": "code",
   "execution_count": 1,
   "id": "0133da6e",
   "metadata": {},
   "outputs": [],
   "source": [
    "# Import Required Librabries:\n",
    "import numpy as np\n",
    "import pandas as pd\n",
    "import matplotlib.pyplot as plt\n",
    "import seaborn as sns"
   ]
  },
  {
   "cell_type": "code",
   "execution_count": 2,
   "id": "e81f8660",
   "metadata": {},
   "outputs": [
    {
     "name": "stdout",
     "output_type": "stream",
     "text": [
      "Enter Passward:········\n"
     ]
    }
   ],
   "source": [
    "# Get user passward:\n",
    "import getpass\n",
    "pwd = getpass.getpass(\"Enter Passward:\") # Enter your Snowflake account passward here."
   ]
  },
  {
   "cell_type": "code",
   "execution_count": 3,
   "id": "8f59cf34",
   "metadata": {},
   "outputs": [],
   "source": [
    "# Create connection to snowflake:\n",
    "import snowflake.connector\n",
    "conn = snowflake.connector.connect(user='--Your Snowflake User_Name--',password=str(pwd),account='---Your Snowflake account identifier---')"
   ]
  },
  {
   "cell_type": "code",
   "execution_count": 4,
   "id": "15b812c5",
   "metadata": {},
   "outputs": [],
   "source": [
    "# Create a varibale called sql and specify query that it will store:\n",
    "sql = \"select * from SNOWFLAKE.ACCOUNT_USAGE.WAREHOUSE_EVENTS_HISTORY LIMIT 100\""
   ]
  },
  {
   "cell_type": "code",
   "execution_count": 5,
   "id": "29e97b7a",
   "metadata": {},
   "outputs": [],
   "source": [
    "# Execute the query with python connector:\n",
    "res = conn.cursor().execute(sql).fetchall()"
   ]
  },
  {
   "cell_type": "code",
   "execution_count": 7,
   "id": "9ff0c0fc",
   "metadata": {},
   "outputs": [],
   "source": [
    "# Read the same query, but this time use read_sql method :\n",
    "# Here, df is pandas dataframe\n",
    "df = pd.read_sql(sql,conn)"
   ]
  },
  {
   "cell_type": "code",
   "execution_count": 8,
   "id": "944746be",
   "metadata": {
    "scrolled": true
   },
   "outputs": [
    {
     "data": {
      "text/html": [
       "<div>\n",
       "<style scoped>\n",
       "    .dataframe tbody tr th:only-of-type {\n",
       "        vertical-align: middle;\n",
       "    }\n",
       "\n",
       "    .dataframe tbody tr th {\n",
       "        vertical-align: top;\n",
       "    }\n",
       "\n",
       "    .dataframe thead th {\n",
       "        text-align: right;\n",
       "    }\n",
       "</style>\n",
       "<table border=\"1\" class=\"dataframe\">\n",
       "  <thead>\n",
       "    <tr style=\"text-align: right;\">\n",
       "      <th></th>\n",
       "      <th>TIMESTAMP</th>\n",
       "      <th>WAREHOUSE_ID</th>\n",
       "      <th>WAREHOUSE_NAME</th>\n",
       "      <th>CLUSTER_NUMBER</th>\n",
       "      <th>EVENT_NAME</th>\n",
       "      <th>EVENT_REASON</th>\n",
       "      <th>EVENT_STATE</th>\n",
       "      <th>USER_NAME</th>\n",
       "      <th>ROLE_NAME</th>\n",
       "      <th>QUERY_ID</th>\n",
       "    </tr>\n",
       "  </thead>\n",
       "  <tbody>\n",
       "    <tr>\n",
       "      <th>0</th>\n",
       "      <td>2021-09-01 04:10:11.500000+00:00</td>\n",
       "      <td>2</td>\n",
       "      <td>DEMO_WH</td>\n",
       "      <td>0</td>\n",
       "      <td>SUSPEND_WAREHOUSE</td>\n",
       "      <td>WAREHOUSE_AUTOSUSPEND</td>\n",
       "      <td>STARTED</td>\n",
       "      <td>None</td>\n",
       "      <td>None</td>\n",
       "      <td>None</td>\n",
       "    </tr>\n",
       "    <tr>\n",
       "      <th>1</th>\n",
       "      <td>2021-09-01 04:05:01.199000+00:00</td>\n",
       "      <td>2</td>\n",
       "      <td>DEMO_WH</td>\n",
       "      <td>0</td>\n",
       "      <td>RESUME_WAREHOUSE</td>\n",
       "      <td>WAREHOUSE_AUTORESUME</td>\n",
       "      <td>STARTED</td>\n",
       "      <td>None</td>\n",
       "      <td>None</td>\n",
       "      <td>None</td>\n",
       "    </tr>\n",
       "    <tr>\n",
       "      <th>2</th>\n",
       "      <td>2021-09-01 04:05:01.253000+00:00</td>\n",
       "      <td>2</td>\n",
       "      <td>DEMO_WH</td>\n",
       "      <td>0</td>\n",
       "      <td>RESUME_WAREHOUSE</td>\n",
       "      <td>WAREHOUSE_AUTORESUME</td>\n",
       "      <td>COMPLETED</td>\n",
       "      <td>None</td>\n",
       "      <td>None</td>\n",
       "      <td>None</td>\n",
       "    </tr>\n",
       "    <tr>\n",
       "      <th>3</th>\n",
       "      <td>2021-09-01 04:10:11.592000+00:00</td>\n",
       "      <td>2</td>\n",
       "      <td>DEMO_WH</td>\n",
       "      <td>0</td>\n",
       "      <td>SUSPEND_WAREHOUSE</td>\n",
       "      <td>WAREHOUSE_AUTOSUSPEND</td>\n",
       "      <td>COMPLETED</td>\n",
       "      <td>None</td>\n",
       "      <td>None</td>\n",
       "      <td>None</td>\n",
       "    </tr>\n",
       "    <tr>\n",
       "      <th>4</th>\n",
       "      <td>2021-09-01 04:05:01.251000+00:00</td>\n",
       "      <td>2</td>\n",
       "      <td>DEMO_WH</td>\n",
       "      <td>0</td>\n",
       "      <td>RESUME_CLUSTER</td>\n",
       "      <td>WAREHOUSE_AUTORESUME</td>\n",
       "      <td>COMPLETED</td>\n",
       "      <td>None</td>\n",
       "      <td>None</td>\n",
       "      <td>None</td>\n",
       "    </tr>\n",
       "  </tbody>\n",
       "</table>\n",
       "</div>"
      ],
      "text/plain": [
       "                         TIMESTAMP  WAREHOUSE_ID WAREHOUSE_NAME  \\\n",
       "0 2021-09-01 04:10:11.500000+00:00             2        DEMO_WH   \n",
       "1 2021-09-01 04:05:01.199000+00:00             2        DEMO_WH   \n",
       "2 2021-09-01 04:05:01.253000+00:00             2        DEMO_WH   \n",
       "3 2021-09-01 04:10:11.592000+00:00             2        DEMO_WH   \n",
       "4 2021-09-01 04:05:01.251000+00:00             2        DEMO_WH   \n",
       "\n",
       "   CLUSTER_NUMBER         EVENT_NAME           EVENT_REASON EVENT_STATE  \\\n",
       "0               0  SUSPEND_WAREHOUSE  WAREHOUSE_AUTOSUSPEND     STARTED   \n",
       "1               0   RESUME_WAREHOUSE   WAREHOUSE_AUTORESUME     STARTED   \n",
       "2               0   RESUME_WAREHOUSE   WAREHOUSE_AUTORESUME   COMPLETED   \n",
       "3               0  SUSPEND_WAREHOUSE  WAREHOUSE_AUTOSUSPEND   COMPLETED   \n",
       "4               0     RESUME_CLUSTER   WAREHOUSE_AUTORESUME   COMPLETED   \n",
       "\n",
       "  USER_NAME ROLE_NAME QUERY_ID  \n",
       "0      None      None     None  \n",
       "1      None      None     None  \n",
       "2      None      None     None  \n",
       "3      None      None     None  \n",
       "4      None      None     None  "
      ]
     },
     "execution_count": 8,
     "metadata": {},
     "output_type": "execute_result"
    }
   ],
   "source": [
    "# Check first 5 records of dataframe\n",
    "df.head()"
   ]
  },
  {
   "cell_type": "code",
   "execution_count": 10,
   "id": "247921cb",
   "metadata": {},
   "outputs": [
    {
     "name": "stdout",
     "output_type": "stream",
     "text": [
      "<class 'pandas.core.frame.DataFrame'>\n",
      "RangeIndex: 100 entries, 0 to 99\n",
      "Data columns (total 10 columns):\n",
      " #   Column          Non-Null Count  Dtype              \n",
      "---  ------          --------------  -----              \n",
      " 0   TIMESTAMP       100 non-null    datetime64[ns, UTC]\n",
      " 1   WAREHOUSE_ID    100 non-null    int64              \n",
      " 2   WAREHOUSE_NAME  100 non-null    object             \n",
      " 3   CLUSTER_NUMBER  100 non-null    int64              \n",
      " 4   EVENT_NAME      100 non-null    object             \n",
      " 5   EVENT_REASON    100 non-null    object             \n",
      " 6   EVENT_STATE     100 non-null    object             \n",
      " 7   USER_NAME       0 non-null      object             \n",
      " 8   ROLE_NAME       0 non-null      object             \n",
      " 9   QUERY_ID        0 non-null      object             \n",
      "dtypes: datetime64[ns, UTC](1), int64(2), object(7)\n",
      "memory usage: 7.9+ KB\n"
     ]
    }
   ],
   "source": [
    "# Check info of dataset :\n",
    "df.info()"
   ]
  },
  {
   "cell_type": "code",
   "execution_count": 11,
   "id": "0f2cd772",
   "metadata": {},
   "outputs": [
    {
     "data": {
      "text/plain": [
       "(100, 10)"
      ]
     },
     "execution_count": 11,
     "metadata": {},
     "output_type": "execute_result"
    }
   ],
   "source": [
    "# Check shape of dataset (No.of rows & columns in dataset) :\n",
    "df.shape"
   ]
  },
  {
   "cell_type": "code",
   "execution_count": null,
   "id": "71055174",
   "metadata": {},
   "outputs": [],
   "source": []
  }
 ],
 "metadata": {
  "kernelspec": {
   "display_name": "Python 3 (ipykernel)",
   "language": "python",
   "name": "python3"
  },
  "language_info": {
   "codemirror_mode": {
    "name": "ipython",
    "version": 3
   },
   "file_extension": ".py",
   "mimetype": "text/x-python",
   "name": "python",
   "nbconvert_exporter": "python",
   "pygments_lexer": "ipython3",
   "version": "3.9.7"
  }
 },
 "nbformat": 4,
 "nbformat_minor": 5
}
